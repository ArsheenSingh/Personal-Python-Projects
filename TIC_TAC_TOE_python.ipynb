{
  "nbformat": 4,
  "nbformat_minor": 0,
  "metadata": {
    "colab": {
      "provenance": [],
      "authorship_tag": "ABX9TyNzBfEYYG6dE7U/qWWsW/fr",
      "include_colab_link": true
    },
    "kernelspec": {
      "name": "python3",
      "display_name": "Python 3"
    },
    "language_info": {
      "name": "python"
    }
  },
  "cells": [
    {
      "cell_type": "markdown",
      "metadata": {
        "id": "view-in-github",
        "colab_type": "text"
      },
      "source": [
        "<a href=\"https://colab.research.google.com/github/ArsheenSingh/TIC-TAC-TOE-Personal-Python-Project/blob/main/TIC_TAC_TOE_python.ipynb\" target=\"_parent\"><img src=\"https://colab.research.google.com/assets/colab-badge.svg\" alt=\"Open In Colab\"/></a>"
      ]
    },
    {
      "cell_type": "code",
      "execution_count": null,
      "metadata": {
        "id": "XIh584IKm2Ho"
      },
      "outputs": [],
      "source": [
        "from IPython.core.display import clear_output\n",
        "def display_board(board):\n",
        "  clear_output\n",
        "  print(board[1]+'| '+board[2]+'| '+board[3])\n",
        "  print('~~~~~~~')\n",
        "  print(board[4]+'| '+board[5]+'| '+board[6])\n",
        "  print('~~~~~~~')\n",
        "  print(board[7]+'| '+board[8]+'| '+board[9])\n",
        "\n",
        "\n"
      ]
    },
    {
      "cell_type": "code",
      "source": [
        "test_board = ['#','X','O','X','O','X','O','X','O','X']\n",
        "display_board(test_board)"
      ],
      "metadata": {
        "colab": {
          "base_uri": "https://localhost:8080/"
        },
        "id": "P95APS18m6nZ",
        "outputId": "20497036-9604-45b2-89ed-984d14746601"
      },
      "execution_count": null,
      "outputs": [
        {
          "output_type": "stream",
          "name": "stdout",
          "text": [
            "X| O| X\n",
            "~~~~~~~\n",
            "O| X| O\n",
            "~~~~~~~\n",
            "X| O| X\n"
          ]
        }
      ]
    },
    {
      "cell_type": "code",
      "source": [
        "def player_input():\n",
        "  marker=''\n",
        "  print('Hi , Welcome to Tic Tac Toe!: ')\n",
        "  while not (marker == 'X' or marker == 'O'):\n",
        "    marker=input('player1 choose , X or O:').upper()\n",
        "\n",
        "  player1=marker\n",
        "  if player1=='X':\n",
        "      player2='O'\n",
        "  else:\n",
        "      player2='X'\n",
        "  return(player1,player2)"
      ],
      "metadata": {
        "id": "16Gp2GMFre9z"
      },
      "execution_count": null,
      "outputs": []
    },
    {
      "cell_type": "code",
      "source": [
        "player_input()"
      ],
      "metadata": {
        "colab": {
          "base_uri": "https://localhost:8080/"
        },
        "id": "efMjcGLUy8jj",
        "outputId": "d1afed8f-87ec-4375-99ba-2f7f9fc7e381"
      },
      "execution_count": null,
      "outputs": [
        {
          "name": "stdout",
          "output_type": "stream",
          "text": [
            "Hi , Welcome to Tic Tac Toe!: \n",
            "player1 choose , X or O:X\n"
          ]
        },
        {
          "output_type": "execute_result",
          "data": {
            "text/plain": [
              "('X', 'O')"
            ]
          },
          "metadata": {},
          "execution_count": 4
        }
      ]
    },
    {
      "cell_type": "code",
      "source": [
        "def place_marker(board, marker, position):\n",
        "    board[position]=marker\n",
        "\n",
        "\n"
      ],
      "metadata": {
        "id": "65sITx5C00d5"
      },
      "execution_count": null,
      "outputs": []
    },
    {
      "cell_type": "code",
      "source": [
        "place_marker(test_board,'$',8)\n",
        "display_board(test_board)\n"
      ],
      "metadata": {
        "colab": {
          "base_uri": "https://localhost:8080/"
        },
        "id": "UZMU6cqV5-L5",
        "outputId": "0f9ea4b2-bc18-4a12-e510-c6c69a227d74"
      },
      "execution_count": null,
      "outputs": [
        {
          "output_type": "stream",
          "name": "stdout",
          "text": [
            "X| O| X\n",
            "~~~~~~~\n",
            "O| X| O\n",
            "~~~~~~~\n",
            "X| $| X\n"
          ]
        }
      ]
    },
    {
      "cell_type": "code",
      "source": [
        "def win_check(board,mark):\n",
        "\n",
        "    return ((board[7] == mark and board[8] == mark and board[9] == mark) or # across the bottom\n",
        "    (board[4] == mark and board[5] == mark and board[6] == mark) or # across the middle\n",
        "    (board[1] == mark and board[2] == mark and board[3] == mark) or # across the top\n",
        "    (board[7] == mark and board[4] == mark and board[1] == mark) or # down the middle\n",
        "    (board[8] == mark and board[5] == mark and board[2] == mark) or # down the middle\n",
        "    (board[9] == mark and board[6] == mark and board[3] == mark) or # down the right side\n",
        "    (board[7] == mark and board[5] == mark and board[3] == mark) or # diagonal\n",
        "    (board[9] == mark and board[5] == mark and board[1] == mark)) # diagonal"
      ],
      "metadata": {
        "id": "MPH7qWAGsidK"
      },
      "execution_count": null,
      "outputs": []
    },
    {
      "cell_type": "code",
      "source": [
        "display_board(test_board)\n",
        "win_check(test_board,'X')\n",
        "\n"
      ],
      "metadata": {
        "colab": {
          "base_uri": "https://localhost:8080/"
        },
        "id": "p98Gb09Ruudo",
        "outputId": "3174966d-8a13-46d3-a2af-3869540729b4"
      },
      "execution_count": null,
      "outputs": [
        {
          "output_type": "stream",
          "name": "stdout",
          "text": [
            "X| O| X\n",
            "~~~~~~~\n",
            "O| X| O\n",
            "~~~~~~~\n",
            "X| $| X\n"
          ]
        },
        {
          "output_type": "execute_result",
          "data": {
            "text/plain": [
              "True"
            ]
          },
          "metadata": {},
          "execution_count": 8
        }
      ]
    },
    {
      "cell_type": "code",
      "source": [
        "import random\n",
        "\n",
        "def choose_first():\n",
        "  flip=random.randint(0,1)\n",
        "  if flip==0:\n",
        "    return 'Player1'\n",
        "  else:\n",
        "    return 'Player2'\n",
        "\n"
      ],
      "metadata": {
        "id": "j0rGJvM86n2Q"
      },
      "execution_count": null,
      "outputs": []
    },
    {
      "cell_type": "code",
      "source": [
        "def space_check(board,position):\n",
        "  return board[position]==' '"
      ],
      "metadata": {
        "id": "XWSHEg5IHMrL"
      },
      "execution_count": null,
      "outputs": []
    },
    {
      "cell_type": "code",
      "source": [
        "def full_board_check(board):\n",
        "    for i in range(1,10):\n",
        "        if space_check(board, i):\n",
        "            return False\n",
        "    return True"
      ],
      "metadata": {
        "id": "GEllCwbwIkgy"
      },
      "execution_count": null,
      "outputs": []
    },
    {
      "cell_type": "code",
      "source": [
        "def player_choice(board):\n",
        "  position=0\n",
        "  while position not in [1,2,3,4,5,6,7,8,9] or not space_check(board,position):\n",
        "    position = int(input('Hey,Please enter the position you wanna place your marker at:' ))\n",
        "  return position"
      ],
      "metadata": {
        "id": "R_0YFM1zJrZF"
      },
      "execution_count": null,
      "outputs": []
    },
    {
      "cell_type": "code",
      "source": [
        "def replay():\n",
        "  print('Do you wanna play again?')\n",
        "  play_again= input('if Yes The please Type Y otherwise N : ').upper()\n",
        "  return play_again=='Y'"
      ],
      "metadata": {
        "id": "TOP3x5qJLRRJ"
      },
      "execution_count": null,
      "outputs": []
    },
    {
      "cell_type": "code",
      "source": [
        "print('WELCOME TO TIC-TAC-TOE')\n",
        "# Game Setup:\n",
        "while True:\n",
        "    board = [' '] * 10\n",
        "    player1_marker, player2_marker = player_input()\n",
        "    whose_turn = choose_first()\n",
        "    print('Congrats ' + whose_turn + ' you have the upper hand as you are Going First!')\n",
        "    ready_to_play = input('Are you finally ready to play the game? Enter Y or N').upper()\n",
        "    if ready_to_play == 'Y':\n",
        "        game_on = True\n",
        "    else:\n",
        "        game_on = False\n",
        "\n",
        "    # Game starts here:\n",
        "    while game_on:\n",
        "        # Player 1:\n",
        "        if whose_turn == 'Player 1':\n",
        "            # Display the board\n",
        "            display_board(board)\n",
        "            # Player will choose a position\n",
        "            position = player_choice(board)\n",
        "            # Place the marker on the position chosen by the player\n",
        "            place_marker(board, player1_marker, position)\n",
        "            # Now check if they won\n",
        "            if win_check(board, player1_marker):\n",
        "                display_board(board)\n",
        "                print('Congratulations!! Player 1 Has Won!!')\n",
        "                game_on = False\n",
        "            # If not, then check for a tie\n",
        "            else:\n",
        "                if full_board_check(board):\n",
        "                    display_board(board)\n",
        "                    print('Oh No, it\\'s a Tie :( ')\n",
        "                    game_on = False\n",
        "                else:\n",
        "                    whose_turn = 'Player 2'\n",
        "        else:\n",
        "            display_board(board)\n",
        "            position = player_choice(board)\n",
        "            place_marker(board, player2_marker, position)\n",
        "            if win_check(board, player2_marker):\n",
        "                display_board(board)\n",
        "                print('Congratulations!! Player 2 you have won!!')\n",
        "                game_on = False\n",
        "            else:\n",
        "                if full_board_check(board):\n",
        "                    display_board(board)\n",
        "                    print('Oh no, it\\'s a Tie')\n",
        "                    game_on = False\n",
        "                else:\n",
        "                    whose_turn = 'Player 1'\n",
        "\n",
        "    if not replay():\n",
        "        break\n",
        "\n",
        "\n",
        "\n",
        "\n",
        "\n",
        "\n",
        "\n",
        "\n",
        "\n",
        "\n",
        "\n",
        "\n",
        "\n",
        "\n",
        "\n",
        "\n"
      ],
      "metadata": {
        "colab": {
          "base_uri": "https://localhost:8080/"
        },
        "id": "LkgvtgKZNU5a",
        "outputId": "022186b0-3d93-4d30-fa48-39ad3ff8bd54"
      },
      "execution_count": null,
      "outputs": [
        {
          "output_type": "stream",
          "name": "stdout",
          "text": [
            "WELCOME TO TIC-TAC-TOE\n",
            "Hi , Welcome to Tic Tac Toe!: \n",
            "player1 choose , X or O:x\n",
            "Congrats Player1 you have the upper hand as you are Going First!\n",
            "Are you finally ready to play the game? Enter Y or Ny\n",
            " |  |  \n",
            "~~~~~~~\n",
            " |  |  \n",
            "~~~~~~~\n",
            " |  |  \n",
            "Hey,Please enter the position you wanna place your marker at:3\n",
            " |  | O\n",
            "~~~~~~~\n",
            " |  |  \n",
            "~~~~~~~\n",
            " |  |  \n",
            "Hey,Please enter the position you wanna place your marker at:2\n",
            " | X| O\n",
            "~~~~~~~\n",
            " |  |  \n",
            "~~~~~~~\n",
            " |  |  \n"
          ]
        }
      ]
    },
    {
      "cell_type": "code",
      "source": [],
      "metadata": {
        "id": "W3sgCduZPaUP"
      },
      "execution_count": null,
      "outputs": []
    }
  ]
}